{
 "cells": [
  {
   "cell_type": "code",
   "execution_count": null,
   "metadata": {},
   "outputs": [],
   "source": [
    "import bs4\n",
    "import urllib.request\n",
    "import pandas as pd\n",
    "import numpy as np\n",
    "\n",
    "items = pd.DataFrame(columns=['Item Title', 'Item Brand', 'Item Provider', 'Item Price', 'Item Price New', 'Item Price Old'] )\n",
    "\n",
    "with urllib.request.urlopen(\"https://www.glami.ro/imbracaminte-barbati/?p=1\") as website:\n",
    "    website_parse = bs4.BeautifulSoup(website.read(), \"lxml\")\n",
    "\n",
    "for url in website_parse.select(\".details\"):\n",
    "    itemTitle = url.select(\".item__title\")\n",
    "    itemTitle = itemTitle[0].get_text().strip()\n",
    "    #print(itemTitle)\n",
    "    \n",
    "    itemBrand = url.select(\".item__brand\")\n",
    "    itemBrand = itemBrand[0].span.get_text().strip()\n",
    "    #print(itemBrand)\n",
    "    \n",
    "    itemProvider = url.select(\".item__provider-name\")\n",
    "    itemProvider = itemProvider[0].get_text().strip()\n",
    "    #print(itemProvider)\n",
    "    \n",
    "    itemPrice = url.select(\".price\")\n",
    "    itemPrice = itemPrice[0].get_text().strip()\n",
    "    #print(itemPrice)\n",
    "    \n",
    "    itemPriceNew = url.select(\".item-price__new\")\n",
    "    if itemPriceNew:\n",
    "        itemPriceNew = itemPriceNew[0].get_text().strip()\n",
    "    else:\n",
    "        itemPriceNew = np.nan\n",
    "    #print(itemPriceNew)\n",
    "    \n",
    "    itemPriceOld = url.select(\".item__price__old\")\n",
    "    if itemPriceOld:\n",
    "        itemPriceOld = itemPriceOld[0].get_text().strip()\n",
    "    else:\n",
    "        itemPriceOld = np.nan\n",
    "    #print(itemPriceOld)\n",
    "    \n",
    "    items.loc[-1] = {'Item Title':itemTitle, 'Item Brand':itemBrand, 'Item Provider':itemProvider, 'Item Price':itemPrice, 'Item Price New':itemPriceNew, 'Item Price Old':itemPriceOld}\n",
    "    items.index += 1\n",
    "    items = items.sort_index()\n",
    "    \n",
    "try:\n",
    "    items.to_csv('Sample.csv')\n",
    "    items.to_excel('Sample.xlsx', 'Sheet1')\n",
    "    print('Done!')\n",
    "except Exception as e:\n",
    "    print(e)\n",
    "    "
   ]
  },
  {
   "cell_type": "code",
   "execution_count": null,
   "metadata": {},
   "outputs": [],
   "source": []
  }
 ],
 "metadata": {
  "kernelspec": {
   "display_name": "Python 3",
   "language": "python",
   "name": "python3"
  },
  "language_info": {
   "codemirror_mode": {
    "name": "ipython",
    "version": 3
   },
   "file_extension": ".py",
   "mimetype": "text/x-python",
   "name": "python",
   "nbconvert_exporter": "python",
   "pygments_lexer": "ipython3",
   "version": "3.7.3"
  }
 },
 "nbformat": 4,
 "nbformat_minor": 2
}
