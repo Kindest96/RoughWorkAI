{
 "cells": [
  {
   "cell_type": "code",
   "execution_count": 40,
   "metadata": {},
   "outputs": [],
   "source": [
    "from keras.datasets import imdb\n",
    "\n",
    "(train_data, train_labels), (test_data, test_labels) = imdb.load_data(num_words=10000)"
   ]
  },
  {
   "cell_type": "code",
   "execution_count": 41,
   "metadata": {},
   "outputs": [
    {
     "data": {
      "text/plain": [
       "(25000, 10000)"
      ]
     },
     "execution_count": 41,
     "metadata": {},
     "output_type": "execute_result"
    }
   ],
   "source": [
    "import numpy as np\n",
    "\n",
    "def vectorize_sequences(sequences, dimension=10000):\n",
    "    result = np.zeros((len(sequences), dimension))\n",
    "    for i, sequence in enumerate(sequences):\n",
    "        result[i, sequence] = 1.\n",
    "    return result\n",
    "\n",
    "x_train = vectorize_sequences(train_data)\n",
    "x_test = vectorize_sequences(test_data)\n",
    "\n",
    "y_train = np.asarray(train_labels).astype('float32')\n",
    "y_test = np.asarray(test_labels).astype('float32')\n",
    "\n",
    "x_train.shape"
   ]
  },
  {
   "cell_type": "code",
   "execution_count": 18,
   "metadata": {},
   "outputs": [],
   "source": [
    "from keras import models\n",
    "from keras import layers\n",
    "\n",
    "model = models.Sequential()\n",
    "model.add(layers.Dense(16,activation='relu',input_shape=(10000,)))\n",
    "model.add(layers.Dense(16,activation='relu'))\n",
    "model.add(layers.Dense(1,activation='sigmoid'))"
   ]
  },
  {
   "cell_type": "code",
   "execution_count": 19,
   "metadata": {},
   "outputs": [],
   "source": [
    "model.compile(optimizer='rmsprop',loss='binary_crossentropy',metrics=['accuracy'])"
   ]
  },
  {
   "cell_type": "code",
   "execution_count": 20,
   "metadata": {},
   "outputs": [
    {
     "name": "stdout",
     "output_type": "stream",
     "text": [
      "Train on 15000 samples, validate on 10000 samples\n",
      "Epoch 1/20\n",
      "15000/15000 [==============================] - 2s 160us/step - loss: 0.5358 - accuracy: 0.7819 - val_loss: 0.4037 - val_accuracy: 0.8677\n",
      "Epoch 2/20\n",
      "15000/15000 [==============================] - 2s 137us/step - loss: 0.3254 - accuracy: 0.8993 - val_loss: 0.3159 - val_accuracy: 0.8855\n",
      "Epoch 3/20\n",
      "15000/15000 [==============================] - 2s 134us/step - loss: 0.2379 - accuracy: 0.9259 - val_loss: 0.2941 - val_accuracy: 0.8854\n",
      "Epoch 4/20\n",
      "15000/15000 [==============================] - 2s 135us/step - loss: 0.1906 - accuracy: 0.9395 - val_loss: 0.2855 - val_accuracy: 0.8856\n",
      "Epoch 5/20\n",
      "15000/15000 [==============================] - 2s 135us/step - loss: 0.1516 - accuracy: 0.9542 - val_loss: 0.2775 - val_accuracy: 0.8884\n",
      "Epoch 6/20\n",
      "15000/15000 [==============================] - 2s 139us/step - loss: 0.1250 - accuracy: 0.9613 - val_loss: 0.2860 - val_accuracy: 0.8859\n",
      "Epoch 7/20\n",
      "15000/15000 [==============================] - 2s 134us/step - loss: 0.1065 - accuracy: 0.9692 - val_loss: 0.3097 - val_accuracy: 0.8835\n",
      "Epoch 8/20\n",
      "15000/15000 [==============================] - 2s 134us/step - loss: 0.0859 - accuracy: 0.9766 - val_loss: 0.3174 - val_accuracy: 0.8827\n",
      "Epoch 9/20\n",
      "15000/15000 [==============================] - 2s 128us/step - loss: 0.0732 - accuracy: 0.9799 - val_loss: 0.3363 - val_accuracy: 0.8806\n",
      "Epoch 10/20\n",
      "15000/15000 [==============================] - 2s 127us/step - loss: 0.0581 - accuracy: 0.9857 - val_loss: 0.4004 - val_accuracy: 0.8717\n",
      "Epoch 11/20\n",
      "15000/15000 [==============================] - 2s 125us/step - loss: 0.0491 - accuracy: 0.9888 - val_loss: 0.3846 - val_accuracy: 0.8797\n",
      "Epoch 12/20\n",
      "15000/15000 [==============================] - 2s 126us/step - loss: 0.0392 - accuracy: 0.9918 - val_loss: 0.4096 - val_accuracy: 0.8773\n",
      "Epoch 13/20\n",
      "15000/15000 [==============================] - 2s 130us/step - loss: 0.0320 - accuracy: 0.9923 - val_loss: 0.4398 - val_accuracy: 0.8744\n",
      "Epoch 14/20\n",
      "15000/15000 [==============================] - 2s 145us/step - loss: 0.0233 - accuracy: 0.9965 - val_loss: 0.4805 - val_accuracy: 0.8679\n",
      "Epoch 15/20\n",
      "15000/15000 [==============================] - 2s 139us/step - loss: 0.0203 - accuracy: 0.9968 - val_loss: 0.4969 - val_accuracy: 0.8718\n",
      "Epoch 16/20\n",
      "15000/15000 [==============================] - 2s 126us/step - loss: 0.0134 - accuracy: 0.9986 - val_loss: 0.5715 - val_accuracy: 0.8610\n",
      "Epoch 17/20\n",
      "15000/15000 [==============================] - 2s 130us/step - loss: 0.0108 - accuracy: 0.9992 - val_loss: 0.5672 - val_accuracy: 0.8690\n",
      "Epoch 18/20\n",
      "15000/15000 [==============================] - 2s 129us/step - loss: 0.0092 - accuracy: 0.9989 - val_loss: 0.6040 - val_accuracy: 0.8679\n",
      "Epoch 19/20\n",
      "15000/15000 [==============================] - 2s 120us/step - loss: 0.0083 - accuracy: 0.9987 - val_loss: 0.6339 - val_accuracy: 0.8663\n",
      "Epoch 20/20\n",
      "15000/15000 [==============================] - 2s 119us/step - loss: 0.0040 - accuracy: 0.9998 - val_loss: 0.6752 - val_accuracy: 0.8636\n"
     ]
    }
   ],
   "source": [
    "x_val = x_train[:10000]\n",
    "partial_x_train = x_train[10000:]\n",
    "\n",
    "y_val = y_train[:10000]\n",
    "partial_y_train = y_train[10000:]\n",
    "\n",
    "history = model.fit(partial_x_train,partial_y_train,epochs=20,batch_size=512,validation_data=(x_val,y_val))"
   ]
  },
  {
   "cell_type": "code",
   "execution_count": 27,
   "metadata": {},
   "outputs": [
    {
     "data": {
      "image/png": "[encoded data removed]",
      "text/plain": [
       "<Figure size 432x288 with 1 Axes>"
      ]
     },
     "metadata": {
      "needs_background": "light"
     },
     "output_type": "display_data"
    }
   ],
   "source": [
    "import matplotlib.pyplot as plt\n",
    "\n",
    "history_dict = history.history\n",
    "loss_values = history_dict['loss']\n",
    "val_loss_values = history_dict['val_loss']\n",
    "\n",
    "epochs = range(1, len(history_dict['accuracy']) + 1)\n",
    "plt.plot(epochs, loss_values, 'bo', label='Training Loss')\n",
    "plt.plot(epochs, val_loss_values, 'b', label='Validation Loss')\n",
    "plt.title('Validation and Training Loss')\n",
    "plt.xlabel('Epochs')\n",
    "plt.ylabel('Loss')\n",
    "plt.legend()\n",
    "\n",
    "plt.show()"
   ]
  },
  {
   "cell_type": "code",
   "execution_count": 30,
   "metadata": {},
   "outputs": [
    {
     "data": {
      "image/png": "[encoded data removed]",
      "text/plain": [
       "<Figure size 432x288 with 1 Axes>"
      ]
     },
     "metadata": {
      "needs_background": "light"
     },
     "output_type": "display_data"
    }
   ],
   "source": [
    "plt.clf()\n",
    "\n",
    "accuracy_values = history_dict['accuracy']\n",
    "val_accuracy_values = history_dict['val_accuracy']\n",
    "\n",
    "plt.plot(epochs, accuracy_values, 'bo', label='Training Accuracy')\n",
    "plt.plot(epochs, val_accuracy_values, 'b', label='Validation Accuracy')\n",
    "plt.title('Validation and Training Accuracy')\n",
    "plt.xlabel('Accuracy')\n",
    "plt.ylabel('Epochs')\n",
    "plt.legend()\n",
    "\n",
    "plt.show()"
   ]
  },
  {
   "cell_type": "code",
   "execution_count": 42,
   "metadata": {},
   "outputs": [
    {
     "name": "stdout",
     "output_type": "stream",
     "text": [
      "Epoch 1/4\n",
      "25000/25000 [==============================] - 3s 101us/step - loss: 0.5107 - accuracy: 0.7962\n",
      "Epoch 2/4\n",
      "25000/25000 [==============================] - 2s 88us/step - loss: 0.3060 - accuracy: 0.9041\n",
      "Epoch 3/4\n",
      "25000/25000 [==============================] - 2s 86us/step - loss: 0.2221 - accuracy: 0.9253\n",
      "Epoch 4/4\n",
      "25000/25000 [==============================] - 2s 83us/step - loss: 0.1791 - accuracy: 0.9392\n",
      "25000/25000 [==============================] - 2s 86us/step\n"
     ]
    },
    {
     "data": {
      "text/plain": [
       "[0.31911646956443784, 0.8721200227737427]"
      ]
     },
     "execution_count": 42,
     "metadata": {},
     "output_type": "execute_result"
    }
   ],
   "source": [
    "model = models.Sequential()\n",
    "\n",
    "model.add(layers.Dense(16, activation='relu', input_shape=(10000,)))\n",
    "model.add(layers.Dense(16, activation='relu'))\n",
    "model.add(layers.Dense(1, activation='sigmoid'))\n",
    "\n",
    "model.compile(optimizer='rmsprop',loss='binary_crossentropy',metrics=['accuracy'])\n",
    "\n",
    "model.fit(x_train, y_train, epochs=4, batch_size=512)\n",
    "\n",
    "results = model.evaluate(x_test, y_test)\n",
    "\n",
    "results"
   ]
  },
  {
   "cell_type": "code",
   "execution_count": 33,
   "metadata": {},
   "outputs": [
    {
     "data": {
      "text/plain": [
       "array([[0.13506734],\n",
       "       [0.9993849 ],\n",
       "       [0.5292819 ],\n",
       "       ...,\n",
       "       [0.06810403],\n",
       "       [0.04378724],\n",
       "       [0.43267658]], dtype=float32)"
      ]
     },
     "execution_count": 33,
     "metadata": {},
     "output_type": "execute_result"
    }
   ],
   "source": [
    "model.predict(x_test)"
   ]
  }
 ],
 "metadata": {
  "kernelspec": {
   "display_name": "Python 3",
   "language": "python",
   "name": "python3"
  },
  "language_info": {
   "codemirror_mode": {
    "name": "ipython",
    "version": 3
   },
   "file_extension": ".py",
   "mimetype": "text/x-python",
   "name": "python",
   "nbconvert_exporter": "python",
   "pygments_lexer": "ipython3",
   "version": "3.7.3"
  }
 },
 "nbformat": 4,
 "nbformat_minor": 2
}
