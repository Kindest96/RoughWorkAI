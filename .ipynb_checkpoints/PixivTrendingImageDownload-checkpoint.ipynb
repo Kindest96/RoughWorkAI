{
 "cells": [
  {
   "cell_type": "code",
   "execution_count": null,
   "metadata": {
    "scrolled": false
   },
   "outputs": [],
   "source": [
    "from datetime import datetime\n",
    "import os, re\n",
    "from pathlib import Path\n",
    "import pandas as pd\n",
    "from pixivapi import Client, Size\n",
    "\n",
    "def extract_values(the_list, key):\n",
    "    rev = []\n",
    "    for val in the_list:\n",
    "        if key in val:\n",
    "            if val[key] is not None:\n",
    "                rev += [val[key]]\n",
    "    return rev\n",
    "\n",
    "count = 0\n",
    "SRC_DIR = Path(os.getcwd()) / 'my_pixiv_images' / datetime.today().strftime('%d_%m_%Y')\n",
    "\n",
    "client = Client()\n",
    "\n",
    "sauce = pd.DataFrame(columns=['illust_id','title','artist','tags','height','width','source'])\n",
    "\n",
    "client.login('daring_asif@live.com','HowToBasic')\n",
    "\n",
    "response = client.fetch_trending_tags()\n",
    "\n",
    "if not Path.is_file(SRC_DIR/Path('sauce.xlsx')):\n",
    "    os.mkdir(SRC_DIR)\n",
    "    open(SRC_DIR/Path('sauce.xlsx'), 'x')\n",
    "\n",
    "print('')\n",
    "\n",
    "\n",
    "for item in response:\n",
    "    \n",
    "    illust = client.fetch_illustration(item['illustration'].id)\n",
    "    \n",
    "    sauce.loc[-1] = {'illust_id':illust.id,'title':illust.title,'artist':illust.user.name,'tags':', '.join(extract_values(illust.tags,'translated_name')),'height':illust.height,'width':illust.width,'source':illust.image_urls[Size.ORIGINAL]}\n",
    "\n",
    "    ###sauce.loc[-1] = [illust.id, illust.title, illust.user.name, illust.tags, illust.height, illust.width, illust.image_urls.values()]\n",
    "    sauce.index += 1\n",
    "    sauce = sauce.sort_index()\n",
    "\n",
    "    try:\n",
    "        illust.download(directory=SRC_DIR, size=Size.ORIGINAL)\n",
    "    except Exception as e:\n",
    "        sauce.to_excel(SRC_DIR/'sauce.xlsx', 'Sheet1')\n",
    "        print(e)\n",
    "        exit()\n",
    "\n",
    "    count = len(os.listdir(SRC_DIR)) # dir is your directory path\n",
    "    print('\\b\\b'+str(count),flush=True)\n",
    "\n",
    "    \n",
    "sauce.to_excel(SRC_DIR/'sauce.xlsx', 'Sheet1')\n",
    "    \n",
    "    \n",
    "\n",
    "print('Download complete!')"
   ]
  },
  {
   "cell_type": "code",
   "execution_count": null,
   "metadata": {},
   "outputs": [],
   "source": []
  }
 ],
 "metadata": {
  "kernelspec": {
   "display_name": "Python 3",
   "language": "python",
   "name": "python3"
  },
  "language_info": {
   "codemirror_mode": {
    "name": "ipython",
    "version": 3
   },
   "file_extension": ".py",
   "mimetype": "text/x-python",
   "name": "python",
   "nbconvert_exporter": "python",
   "pygments_lexer": "ipython3",
   "version": "3.7.3"
  }
 },
 "nbformat": 4,
 "nbformat_minor": 2
}
