{
 "cells": [
  {
   "cell_type": "markdown",
   "metadata": {},
   "source": [
    "# Setup"
   ]
  },
  {
   "cell_type": "code",
   "execution_count": 1,
   "metadata": {},
   "outputs": [],
   "source": [
    "PIXIV_USERNAME = \"Kindest\"\n",
    "PIXIV_PASSWORD = \"HowToBasic\""
   ]
  },
  {
   "cell_type": "code",
   "execution_count": 2,
   "metadata": {},
   "outputs": [
    {
     "ename": "PixivError",
     "evalue": "[ERROR] auth() failed! check username and password.\nHTTP 400: {\"has_error\":true,\"errors\":{\"system\":{\"message\":\"103:pixiv ID\\u3001\\u307e\\u305f\\u306f\\u30e1\\u30fc\\u30eb\\u30a2\\u30c9\\u30ec\\u30b9\\u3001\\u30d1\\u30b9\\u30ef\\u30fc\\u30c9\\u304c\\u6b63\\u3057\\u3044\\u304b\\u30c1\\u30a7\\u30c3\\u30af\\u3057\\u3066\\u304f\\u3060\\u3055\\u3044\\u3002\",\"code\":1508}}}",
     "output_type": "error",
     "traceback": [
      "\u001b[1;31m---------------------------------------------------------------------------\u001b[0m",
      "\u001b[1;31mPixivError\u001b[0m                                Traceback (most recent call last)",
      "\u001b[1;32m<ipython-input-2-76c945273157>\u001b[0m in \u001b[0;36m<module>\u001b[1;34m\u001b[0m\n\u001b[0;32m      7\u001b[0m \u001b[0mapi\u001b[0m\u001b[1;33m.\u001b[0m\u001b[0mset_accept_language\u001b[0m\u001b[1;33m(\u001b[0m\u001b[1;34m'zh-cn'\u001b[0m\u001b[1;33m)\u001b[0m  \u001b[1;31m# tags翻译成中文\u001b[0m\u001b[1;33m\u001b[0m\u001b[1;33m\u001b[0m\u001b[0m\n\u001b[0;32m      8\u001b[0m \u001b[1;33m\u001b[0m\u001b[0m\n\u001b[1;32m----> 9\u001b[1;33m \u001b[0mtoken\u001b[0m \u001b[1;33m=\u001b[0m \u001b[0mapi\u001b[0m\u001b[1;33m.\u001b[0m\u001b[0mlogin\u001b[0m\u001b[1;33m(\u001b[0m\u001b[0mPIXIV_USERNAME\u001b[0m\u001b[1;33m,\u001b[0m \u001b[0mPIXIV_PASSWORD\u001b[0m\u001b[1;33m)\u001b[0m\u001b[1;33m\u001b[0m\u001b[1;33m\u001b[0m\u001b[0m\n\u001b[0m\u001b[0;32m     10\u001b[0m \u001b[0muser_id\u001b[0m \u001b[1;33m=\u001b[0m \u001b[0mtoken\u001b[0m\u001b[1;33m.\u001b[0m\u001b[0mresponse\u001b[0m\u001b[1;33m.\u001b[0m\u001b[0muser\u001b[0m\u001b[1;33m.\u001b[0m\u001b[0mid\u001b[0m\u001b[1;33m\u001b[0m\u001b[1;33m\u001b[0m\u001b[0m\n\u001b[0;32m     11\u001b[0m \u001b[0mprint\u001b[0m\u001b[1;33m(\u001b[0m\u001b[0mtoken\u001b[0m\u001b[1;33m.\u001b[0m\u001b[0mresponse\u001b[0m\u001b[1;33m.\u001b[0m\u001b[0muser\u001b[0m\u001b[1;33m)\u001b[0m\u001b[1;33m\u001b[0m\u001b[1;33m\u001b[0m\u001b[0m\n",
      "\u001b[1;32mC:\\ProgramData\\Anaconda3\\lib\\site-packages\\pixivpy3\\api.py\u001b[0m in \u001b[0;36mlogin\u001b[1;34m(self, username, password)\u001b[0m\n\u001b[0;32m     79\u001b[0m \u001b[1;33m\u001b[0m\u001b[0m\n\u001b[0;32m     80\u001b[0m     \u001b[1;32mdef\u001b[0m \u001b[0mlogin\u001b[0m\u001b[1;33m(\u001b[0m\u001b[0mself\u001b[0m\u001b[1;33m,\u001b[0m \u001b[0musername\u001b[0m\u001b[1;33m,\u001b[0m \u001b[0mpassword\u001b[0m\u001b[1;33m)\u001b[0m\u001b[1;33m:\u001b[0m\u001b[1;33m\u001b[0m\u001b[1;33m\u001b[0m\u001b[0m\n\u001b[1;32m---> 81\u001b[1;33m         \u001b[1;32mreturn\u001b[0m \u001b[0mself\u001b[0m\u001b[1;33m.\u001b[0m\u001b[0mauth\u001b[0m\u001b[1;33m(\u001b[0m\u001b[0musername\u001b[0m\u001b[1;33m=\u001b[0m\u001b[0musername\u001b[0m\u001b[1;33m,\u001b[0m \u001b[0mpassword\u001b[0m\u001b[1;33m=\u001b[0m\u001b[0mpassword\u001b[0m\u001b[1;33m)\u001b[0m\u001b[1;33m\u001b[0m\u001b[1;33m\u001b[0m\u001b[0m\n\u001b[0m\u001b[0;32m     82\u001b[0m \u001b[1;33m\u001b[0m\u001b[0m\n\u001b[0;32m     83\u001b[0m     \u001b[1;32mdef\u001b[0m \u001b[0mset_client\u001b[0m\u001b[1;33m(\u001b[0m\u001b[0mself\u001b[0m\u001b[1;33m,\u001b[0m \u001b[0mclient_id\u001b[0m\u001b[1;33m,\u001b[0m \u001b[0mclient_secret\u001b[0m\u001b[1;33m)\u001b[0m\u001b[1;33m:\u001b[0m\u001b[1;33m\u001b[0m\u001b[1;33m\u001b[0m\u001b[0m\n",
      "\u001b[1;32mC:\\ProgramData\\Anaconda3\\lib\\site-packages\\pixivpy3\\api.py\u001b[0m in \u001b[0;36mauth\u001b[1;34m(self, username, password, refresh_token)\u001b[0m\n\u001b[0;32m    120\u001b[0m                 raise PixivError(\n\u001b[0;32m    121\u001b[0m                     \u001b[1;34m'[ERROR] auth() failed! check username and password.\\nHTTP %s: %s'\u001b[0m \u001b[1;33m%\u001b[0m \u001b[1;33m(\u001b[0m\u001b[0mr\u001b[0m\u001b[1;33m.\u001b[0m\u001b[0mstatus_code\u001b[0m\u001b[1;33m,\u001b[0m \u001b[0mr\u001b[0m\u001b[1;33m.\u001b[0m\u001b[0mtext\u001b[0m\u001b[1;33m)\u001b[0m\u001b[1;33m,\u001b[0m\u001b[1;33m\u001b[0m\u001b[1;33m\u001b[0m\u001b[0m\n\u001b[1;32m--> 122\u001b[1;33m                     header=r.headers, body=r.text)\n\u001b[0m\u001b[0;32m    123\u001b[0m             \u001b[1;32melse\u001b[0m\u001b[1;33m:\u001b[0m\u001b[1;33m\u001b[0m\u001b[1;33m\u001b[0m\u001b[0m\n\u001b[0;32m    124\u001b[0m                 raise PixivError('[ERROR] auth() failed! check refresh_token.\\nHTTP %s: %s' % (r.status_code, r.text),\n",
      "\u001b[1;31mPixivError\u001b[0m: [ERROR] auth() failed! check username and password.\nHTTP 400: {\"has_error\":true,\"errors\":{\"system\":{\"message\":\"103:pixiv ID\\u3001\\u307e\\u305f\\u306f\\u30e1\\u30fc\\u30eb\\u30a2\\u30c9\\u30ec\\u30b9\\u3001\\u30d1\\u30b9\\u30ef\\u30fc\\u30c9\\u304c\\u6b63\\u3057\\u3044\\u304b\\u30c1\\u30a7\\u30c3\\u30af\\u3057\\u3066\\u304f\\u3060\\u3055\\u3044\\u3002\",\"code\":1508}}}"
     ]
    }
   ],
   "source": [
    "from pixivpy3 import *\n",
    "\n",
    "\n",
    "api = AppPixivAPI()\n",
    "# api = ByPassSniApi()  # bypass the GFW\n",
    "# api.require_appapi_hosts()\n",
    "api.set_accept_language('zh-cn')  # tags翻译成中文\n",
    "\n",
    "token = api.login(PIXIV_USERNAME, PIXIV_PASSWORD)\n",
    "user_id = token.response.user.id\n",
    "print(token.response.user)"
   ]
  },
  {
   "cell_type": "markdown",
   "metadata": {},
   "source": [
    "# PixivCrawler (with pixivpy)"
   ]
  },
  {
   "cell_type": "code",
   "execution_count": null,
   "metadata": {},
   "outputs": [],
   "source": [
    "import os\n",
    "import json\n",
    "import time\n",
    "import random\n",
    "import numpy as np\n",
    "import pandas as pd\n",
    "import sqlite3 as lite\n",
    "from sqlalchemy import create_engine\n",
    "try:\n",
    "    from tqdm.notebook import tqdm  # new tqdm\n",
    "except:\n",
    "    from tqdm import tqdm_notebook as tqdm\n",
    "\n",
    "class PixivCrawler(object):\n",
    "\n",
    "    def __init__(self, api, illust_db='pixiv_illusts.db'):\n",
    "        self.api = api\n",
    "        self.illust_db = illust_db\n",
    "        self.user_info = None\n",
    "\n",
    "    def randSleep(self, base=0.1, rand=0.5):\n",
    "        \"休眠随机的时间\"\n",
    "        time.sleep(base + rand*random.random())\n",
    "\n",
    "    def GetUserDetail(self, user_id):\n",
    "        \"查询指定用户的基本信息\"\n",
    "        self.last_user = self.api.user_detail(user_id)\n",
    "        return self.last_user\n",
    "\n",
    "    def GetUserBookmarks(self, user_id, restrict='public'):\n",
    "        \"获取指定用户的收藏列表\"\n",
    "        df_list = []\n",
    "        next_qs = {'user_id': user_id, 'restrict': restrict}\n",
    "\n",
    "        user = self.GetUserDetail(user_id)\n",
    "        self.randSleep(0.1)\n",
    "\n",
    "        with tqdm(total=user.profile.total_illust_bookmarks_public,\n",
    "                  desc=\"api.user_bookmarks_illust\") as pbar:\n",
    "            while next_qs != None:\n",
    "                json_result = self.api.user_bookmarks_illust(**next_qs)\n",
    "                tmp_df = pd.DataFrame.from_dict(json_result.illusts)\n",
    "                df_list.append(tmp_df)\n",
    "                pbar.update(tmp_df.shape[0])\n",
    "                next_qs = self.api.parse_qs(json_result.next_url)\n",
    "                self.randSleep(0.1)\n",
    "\n",
    "        df = pd.concat(df_list).rename(columns={'id': 'illust_id'})\n",
    "        df['user_id'] = df.user.apply(lambda d: d['id'])\n",
    "        return df.set_index('illust_id')\n",
    "\n",
    "    def GetUserIllusts(self, user_id, type='illust'):\n",
    "        \"获取指定用户的作品列表(illusts/manga)\"\n",
    "        df_list = []\n",
    "        next_qs = {'user_id': user_id, 'type': type, 'filter': 'for_ios'}\n",
    "\n",
    "        user = self.GetUserDetail(user_id)\n",
    "        if type == 'illust':\n",
    "            total = user.profile.total_illusts\n",
    "        elif type == 'manga':\n",
    "            total = user.profile.total_manga\n",
    "        else:\n",
    "            raise Exception(\"Unsupported type=%d\" % type)\n",
    "        self.randSleep(0.1)\n",
    "\n",
    "        with tqdm(total=total, desc=\"api.user_illusts\") as pbar:\n",
    "            while next_qs != None:\n",
    "                json_result = self.api.user_illusts(**next_qs)\n",
    "                tmp_df = pd.DataFrame.from_dict(json_result.illusts)\n",
    "                df_list.append(tmp_df)\n",
    "                pbar.update(tmp_df.shape[0])\n",
    "                next_qs = self.api.parse_qs(json_result.next_url)\n",
    "                self.randSleep(0.1)\n",
    "\n",
    "        df = pd.concat(df_list).rename(columns={'id': 'illust_id'})\n",
    "        df['user_id'] = df.user.apply(lambda d: d['id'])\n",
    "        return df.set_index('illust_id')\n",
    "\n",
    "    def GetIllustRanking(self, mode, date, total=100):\n",
    "        \"获取作品排行榜\"\n",
    "        df_list = []\n",
    "        next_qs = {'mode': mode, 'date': date, 'filter': 'for_ios'}\n",
    "\n",
    "        with tqdm(total=total, desc=\"api.illust_ranking\") as pbar:\n",
    "            while next_qs != None:\n",
    "                json_result = self.api.illust_ranking(**next_qs)\n",
    "                tmp_df = pd.DataFrame.from_dict(json_result.illusts)\n",
    "                df_list.append(tmp_df)\n",
    "                pbar.update(tmp_df.shape[0])\n",
    "                next_qs = self.api.parse_qs(json_result.next_url)\n",
    "                self.randSleep(0.3)\n",
    "\n",
    "        df = pd.concat(df_list).rename(columns={'id': 'illust_id'})\n",
    "        df['user_id'] = df.user.apply(lambda d: d['id'])\n",
    "        return df.set_index('illust_id')\n",
    "\n",
    "    def GetFollowingUsers(self, user_id, restrict='public'):\n",
    "        \"获取指定用户跟踪的用户列表，返回user_ids\"\n",
    "        user_ids = []\n",
    "        next_qs = {'user_id': user_id, 'restrict': restrict}\n",
    "\n",
    "        user = self.GetUserDetail(user_id)\n",
    "        with tqdm(total=user.profile.total_follow_users,\n",
    "                  desc=\"api.user_following\") as pbar:\n",
    "            while next_qs != None:\n",
    "                json_result = self.api.user_following(**next_qs)\n",
    "                for one_user in json_result.user_previews:\n",
    "                    user_ids.append(one_user.user.id)\n",
    "                pbar.update(len(json_result.user_previews))\n",
    "                next_qs = self.api.parse_qs(json_result.next_url)\n",
    "                self.randSleep(0.3, 0.8)\n",
    "        return np.array(user_ids)\n",
    "\n",
    "    def UpdateIllusts(self, df_illusts):\n",
    "        sql_df = df_illusts.copy()\n",
    "\n",
    "        # 数组类字段转json\n",
    "        sql_df['image_urls'] = sql_df.image_urls.apply(json.dumps)\n",
    "        sql_df['meta_pages'] = sql_df.meta_pages.apply(json.dumps)\n",
    "        sql_df['meta_single_page'] = sql_df.meta_single_page.apply(json.dumps)\n",
    "        sql_df['series'] = sql_df.series.apply(json.dumps)\n",
    "        sql_df['tags'] = sql_df.tags.apply(json.dumps)\n",
    "        sql_df['tools'] = sql_df.tools.apply(json.dumps)\n",
    "        sql_df['user'] = sql_df.user.apply(json.dumps)\n",
    "\n",
    "        # 先读取文件里的illusts存储，并用新的数据代替key相同的内容\n",
    "        if os.path.isfile(self.illust_db):\n",
    "            # 读取文件的数据并丢弃同样的illust_id (保留新的illust_id)\n",
    "            db_df = self.DBIllusts(ensure_json=False)\n",
    "            db_df = db_df[~db_df.index.isin(sql_df.index)]\n",
    "            merged_df = pd.concat([sql_df, db_df], sort=False)\n",
    "        else:\n",
    "            merged_df = sql_df\n",
    "\n",
    "        # 合并后df写入文件(replace方式)\n",
    "        engine = create_engine('sqlite:///' + self.illust_db, echo=False)\n",
    "        merged_df.to_sql('illusts', con=engine, if_exists='replace')\n",
    "        return merged_df\n",
    "\n",
    "    def DBIllusts(self, sql=\"SELECT * FROM illusts WHERE illust_id > 0\", ensure_json=True):\n",
    "        with lite.connect(self.illust_db) as conn:\n",
    "            sql_df = pd.read_sql_query(sql, conn, index_col='illust_id')\n",
    "\n",
    "        # 还原json字段\n",
    "        if ensure_json:\n",
    "            sql_df['image_urls'] = sql_df.image_urls.apply(json.loads)\n",
    "            sql_df['meta_pages'] = sql_df.meta_pages.apply(json.loads)\n",
    "            sql_df['meta_single_page'] = sql_df.meta_single_page.apply(\n",
    "                json.loads)\n",
    "            sql_df['series'] = sql_df.series.apply(json.loads)\n",
    "            sql_df['tags'] = sql_df.tags.apply(json.loads)\n",
    "            sql_df['tools'] = sql_df.tools.apply(json.loads)\n",
    "            sql_df['user'] = sql_df.user.apply(json.loads)\n",
    "        return sql_df\n",
    "\n",
    "\n",
    "crawl = PixivCrawler(api)"
   ]
  },
  {
   "cell_type": "markdown",
   "metadata": {},
   "source": [
    "## GetUserBookmarks(public)"
   ]
  },
  {
   "cell_type": "code",
   "execution_count": null,
   "metadata": {},
   "outputs": [],
   "source": [
    "df_bookmarks = crawl.GetUserBookmarks(user_id)\n",
    "_ = crawl.UpdateIllusts(df_bookmarks)"
   ]
  },
  {
   "cell_type": "markdown",
   "metadata": {},
   "source": [
    "## GetFollowingUsers(public)"
   ]
  },
  {
   "cell_type": "code",
   "execution_count": null,
   "metadata": {},
   "outputs": [],
   "source": [
    "user_ids = crawl.GetFollowingUsers(user_id)"
   ]
  },
  {
   "cell_type": "code",
   "execution_count": null,
   "metadata": {},
   "outputs": [],
   "source": [
    "random.shuffle(user_ids)\n",
    "for uid in tqdm(user_ids, desc=\"GetFollowingUsers\"):\n",
    "    df = crawl.GetUserIllusts(uid)\n",
    "    _ = crawl.UpdateIllusts(df)\n",
    "    crawl.randSleep(1.1, 5.0)"
   ]
  },
  {
   "cell_type": "markdown",
   "metadata": {},
   "source": [
    "## GetIllustRanking"
   ]
  },
  {
   "cell_type": "code",
   "execution_count": null,
   "metadata": {},
   "outputs": [],
   "source": [
    "# mode: [day, week, month, day_male, day_female, week_original, week_rookie, day_manga]\n",
    "# date: '2016-08-01'\n",
    "# mode (Past): [day, week, month, day_male, day_female, week_original, week_rookie,\n",
    "#               day_r18, day_male_r18, day_female_r18, week_r18, week_r18g]\n",
    "df_ranking = crawl.GetIllustRanking('week', '2019-11-01')\n",
    "_ = crawl.UpdateIllusts(df_ranking)"
   ]
  },
  {
   "cell_type": "code",
   "execution_count": null,
   "metadata": {},
   "outputs": [],
   "source": []
  }
 ],
 "metadata": {
  "kernelspec": {
   "display_name": "Python 3",
   "language": "python",
   "name": "python3"
  },
  "language_info": {
   "codemirror_mode": {
    "name": "ipython",
    "version": 3
   },
   "file_extension": ".py",
   "mimetype": "text/x-python",
   "name": "python",
   "nbconvert_exporter": "python",
   "pygments_lexer": "ipython3",
   "version": "3.7.3"
  },
  "toc": {
   "base_numbering": 1,
   "nav_menu": {},
   "number_sections": true,
   "sideBar": true,
   "skip_h1_title": false,
   "title_cell": "Table of Contents",
   "title_sidebar": "Contents",
   "toc_cell": false,
   "toc_position": {},
   "toc_section_display": true,
   "toc_window_display": true
  }
 },
 "nbformat": 4,
 "nbformat_minor": 2
}
