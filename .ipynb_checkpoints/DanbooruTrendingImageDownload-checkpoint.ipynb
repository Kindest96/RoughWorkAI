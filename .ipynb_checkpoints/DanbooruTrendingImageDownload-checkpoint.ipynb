{
 "cells": [
  {
   "cell_type": "code",
   "execution_count": null,
   "metadata": {
    "scrolled": false
   },
   "outputs": [],
   "source": [
    "from datetime import datetime\n",
    "import os\n",
    "from pathlib import Path\n",
    "import pandas as pd\n",
    "from pybooru import Moebooru\n",
    "import urllib.request\n",
    "\n",
    "def extract_extension(link):\n",
    "    link = link.split(\".\")\n",
    "    return '.'+str(link[-1])\n",
    "\n",
    "\n",
    "client = Moebooru('yandere')\n",
    "sauce = pd.DataFrame(columns=['illust_id','artist','tags','rating','height','width','picture source','download source'])\n",
    "posts = client.post_list(limit=100, page=1)\n",
    "\n",
    "#ratings: 's','safe','q','questionable','e','explicit'\n",
    "nsfw_lock = ['s','safe','q','questionable','e','explicit']\n",
    "rating = {'s':'safe', 'q':'questionable', 'e':'explicit', 'safe':'safe', 'questionable':'questionable', 'explicit':'explicit'}\n",
    "\n",
    "SRC_DIR = Path(os.getcwd()) / 'my_moebooru_images'\n",
    "\n",
    "if not Path.is_dir(SRC_DIR):\n",
    "    os.mkdir(SRC_DIR)\n",
    "\n",
    "SRC_DIR = SRC_DIR / datetime.today().strftime('%d_%m_%Y')\n",
    "\n",
    "if not Path.is_file(SRC_DIR/Path('sauce.xlsx')):\n",
    "    os.mkdir(SRC_DIR)\n",
    "    open(SRC_DIR/Path('sauce.xlsx'), 'x')\n",
    "\n",
    "for post in posts:\n",
    "    ###print(\"URL image: {0}\".format(post['file_url']))    \n",
    "    sauce.loc[-1] = {'illust_id':post['id'],'artist':post['author'],'tags':post['tags'],'rating':rating[post['rating']],'height':post['height'],'width':post['width'],'picture source':post['source'],'download source':post['file_url']}\n",
    "\n",
    "    ###sauce.loc[-1] = [illust.id, illust.title, illust.user.name, illust.tags, illust.height, illust.width, illust.image_urls.values()]\n",
    "    sauce.index += 1\n",
    "    sauce = sauce.sort_index()\n",
    "    \n",
    "    if post['rating'] in nsfw_lock:\n",
    "        try:\n",
    "            urllib.request.urlretrieve(post['file_url'], SRC_DIR/(str(post['id'])+extract_extension(post['file_url'])))\n",
    "        except Exception as e:\n",
    "            sauce.to_excel(SRC_DIR/'sauce.xlsx', 'Sheet1')\n",
    "            print(e)\n",
    "            exit()\n",
    "\n",
    "    count = len(os.listdir(SRC_DIR)) # dir is your directory path\n",
    "    print('\\b\\b'+str(count),flush=True)\n",
    "\n",
    "sauce.to_excel(SRC_DIR/'sauce.xlsx', 'Sheet1')\n",
    "    \n",
    "print('Download Complete!')"
   ]
  },
  {
   "cell_type": "code",
   "execution_count": null,
   "metadata": {},
   "outputs": [],
   "source": []
  }
 ],
 "metadata": {
  "kernelspec": {
   "display_name": "Python 3",
   "language": "python",
   "name": "python3"
  },
  "language_info": {
   "codemirror_mode": {
    "name": "ipython",
    "version": 3
   },
   "file_extension": ".py",
   "mimetype": "text/x-python",
   "name": "python",
   "nbconvert_exporter": "python",
   "pygments_lexer": "ipython3",
   "version": "3.7.3"
  }
 },
 "nbformat": 4,
 "nbformat_minor": 2
}
